{
 "cells": [
  {
   "cell_type": "markdown",
   "metadata": {},
   "source": [
    "# Assignment: Exploring Data"
   ]
  },
  {
   "cell_type": "markdown",
   "metadata": {},
   "source": [
    "Hi,\n",
    "\n",
    "The marketing team would like to share out the five happiest countries of the 2010s on social media.\n",
    "I’ve attached a notebook that another data scientist started with happiness data inside. I would recommend:\n",
    "* Creating a list of each country’s highest happiness score, and then sorting it from happiest to least happy country\n",
    "* Creating a list of each country’s average happiness score, and then sorting it from happiest to least happy country\n",
    "\n",
    "Are there any differences between the two lists?\n",
    "\n",
    "Thanks!\\\n",
    "Anna"
   ]
  },
  {
   "cell_type": "markdown",
   "metadata": {},
   "source": [
    "## Read in the data"
   ]
  },
  {
   "cell_type": "code",
   "execution_count": 1,
   "metadata": {},
   "outputs": [
    {
     "data": {
      "text/html": [
       "<div>\n",
       "<style scoped>\n",
       "    .dataframe tbody tr th:only-of-type {\n",
       "        vertical-align: middle;\n",
       "    }\n",
       "\n",
       "    .dataframe tbody tr th {\n",
       "        vertical-align: top;\n",
       "    }\n",
       "\n",
       "    .dataframe thead th {\n",
       "        text-align: right;\n",
       "    }\n",
       "</style>\n",
       "<table border=\"1\" class=\"dataframe\">\n",
       "  <thead>\n",
       "    <tr style=\"text-align: right;\">\n",
       "      <th></th>\n",
       "      <th>country_name</th>\n",
       "      <th>year</th>\n",
       "      <th>happiness_score</th>\n",
       "      <th>social_support</th>\n",
       "      <th>freedom_to_make_life_choices</th>\n",
       "      <th>healthy_life_expectancy_at_birth</th>\n",
       "    </tr>\n",
       "  </thead>\n",
       "  <tbody>\n",
       "    <tr>\n",
       "      <th>0</th>\n",
       "      <td>Afghanistan</td>\n",
       "      <td>2008</td>\n",
       "      <td>3.723590</td>\n",
       "      <td>0.450662</td>\n",
       "      <td>0.718114</td>\n",
       "      <td>50.500000</td>\n",
       "    </tr>\n",
       "    <tr>\n",
       "      <th>1</th>\n",
       "      <td>Afghanistan</td>\n",
       "      <td>2009</td>\n",
       "      <td>4.401778</td>\n",
       "      <td>0.552308</td>\n",
       "      <td>0.678896</td>\n",
       "      <td>50.799999</td>\n",
       "    </tr>\n",
       "    <tr>\n",
       "      <th>2</th>\n",
       "      <td>Afghanistan</td>\n",
       "      <td>2010</td>\n",
       "      <td>4.758381</td>\n",
       "      <td>0.539075</td>\n",
       "      <td>0.600127</td>\n",
       "      <td>51.099998</td>\n",
       "    </tr>\n",
       "    <tr>\n",
       "      <th>3</th>\n",
       "      <td>Afghanistan</td>\n",
       "      <td>2011</td>\n",
       "      <td>3.831719</td>\n",
       "      <td>0.521104</td>\n",
       "      <td>0.495901</td>\n",
       "      <td>51.400002</td>\n",
       "    </tr>\n",
       "    <tr>\n",
       "      <th>4</th>\n",
       "      <td>Afghanistan</td>\n",
       "      <td>2012</td>\n",
       "      <td>3.782938</td>\n",
       "      <td>0.520637</td>\n",
       "      <td>0.530935</td>\n",
       "      <td>51.700001</td>\n",
       "    </tr>\n",
       "  </tbody>\n",
       "</table>\n",
       "</div>"
      ],
      "text/plain": [
       "  country_name  year  happiness_score  social_support  \\\n",
       "0  Afghanistan  2008         3.723590        0.450662   \n",
       "1  Afghanistan  2009         4.401778        0.552308   \n",
       "2  Afghanistan  2010         4.758381        0.539075   \n",
       "3  Afghanistan  2011         3.831719        0.521104   \n",
       "4  Afghanistan  2012         3.782938        0.520637   \n",
       "\n",
       "   freedom_to_make_life_choices  healthy_life_expectancy_at_birth  \n",
       "0                      0.718114                         50.500000  \n",
       "1                      0.678896                         50.799999  \n",
       "2                      0.600127                         51.099998  \n",
       "3                      0.495901                         51.400002  \n",
       "4                      0.530935                         51.700001  "
      ]
     },
     "execution_count": 1,
     "metadata": {},
     "output_type": "execute_result"
    }
   ],
   "source": [
    "# import the data \n",
    "\n",
    "import pandas as pd\n",
    "\n",
    "df = pd.read_csv('../Data/happiness_survey_data.csv')\n",
    "df.head()"
   ]
  },
  {
   "cell_type": "code",
   "execution_count": 2,
   "metadata": {},
   "outputs": [
    {
     "data": {
      "text/plain": [
       "(2089, 6)"
      ]
     },
     "execution_count": 2,
     "metadata": {},
     "output_type": "execute_result"
    }
   ],
   "source": [
    "# there are 2089 rows and 6 columns of data\n",
    "df.shape"
   ]
  },
  {
   "cell_type": "code",
   "execution_count": 3,
   "metadata": {},
   "outputs": [
    {
     "data": {
      "text/html": [
       "<div>\n",
       "<style scoped>\n",
       "    .dataframe tbody tr th:only-of-type {\n",
       "        vertical-align: middle;\n",
       "    }\n",
       "\n",
       "    .dataframe tbody tr th {\n",
       "        vertical-align: top;\n",
       "    }\n",
       "\n",
       "    .dataframe thead th {\n",
       "        text-align: right;\n",
       "    }\n",
       "</style>\n",
       "<table border=\"1\" class=\"dataframe\">\n",
       "  <thead>\n",
       "    <tr style=\"text-align: right;\">\n",
       "      <th></th>\n",
       "      <th>year</th>\n",
       "      <th>happiness_score</th>\n",
       "      <th>social_support</th>\n",
       "      <th>freedom_to_make_life_choices</th>\n",
       "      <th>healthy_life_expectancy_at_birth</th>\n",
       "    </tr>\n",
       "  </thead>\n",
       "  <tbody>\n",
       "    <tr>\n",
       "      <th>count</th>\n",
       "      <td>2089.000000</td>\n",
       "      <td>2089.000000</td>\n",
       "      <td>2076.000000</td>\n",
       "      <td>2057.000000</td>\n",
       "      <td>2031.000000</td>\n",
       "    </tr>\n",
       "    <tr>\n",
       "      <th>mean</th>\n",
       "      <td>2013.727621</td>\n",
       "      <td>5.473747</td>\n",
       "      <td>0.811542</td>\n",
       "      <td>0.745462</td>\n",
       "      <td>63.180326</td>\n",
       "    </tr>\n",
       "    <tr>\n",
       "      <th>std</th>\n",
       "      <td>4.455614</td>\n",
       "      <td>1.115567</td>\n",
       "      <td>0.118935</td>\n",
       "      <td>0.140751</td>\n",
       "      <td>6.948546</td>\n",
       "    </tr>\n",
       "    <tr>\n",
       "      <th>min</th>\n",
       "      <td>2005.000000</td>\n",
       "      <td>2.178809</td>\n",
       "      <td>0.290184</td>\n",
       "      <td>0.257534</td>\n",
       "      <td>6.720000</td>\n",
       "    </tr>\n",
       "    <tr>\n",
       "      <th>25%</th>\n",
       "      <td>2010.000000</td>\n",
       "      <td>4.651972</td>\n",
       "      <td>0.747664</td>\n",
       "      <td>0.651689</td>\n",
       "      <td>58.965000</td>\n",
       "    </tr>\n",
       "    <tr>\n",
       "      <th>50%</th>\n",
       "      <td>2014.000000</td>\n",
       "      <td>5.405246</td>\n",
       "      <td>0.834770</td>\n",
       "      <td>0.767357</td>\n",
       "      <td>64.980003</td>\n",
       "    </tr>\n",
       "    <tr>\n",
       "      <th>75%</th>\n",
       "      <td>2017.000000</td>\n",
       "      <td>6.294282</td>\n",
       "      <td>0.904682</td>\n",
       "      <td>0.857677</td>\n",
       "      <td>68.362499</td>\n",
       "    </tr>\n",
       "    <tr>\n",
       "      <th>max</th>\n",
       "      <td>2021.000000</td>\n",
       "      <td>8.018934</td>\n",
       "      <td>0.987343</td>\n",
       "      <td>0.985178</td>\n",
       "      <td>74.349998</td>\n",
       "    </tr>\n",
       "  </tbody>\n",
       "</table>\n",
       "</div>"
      ],
      "text/plain": [
       "              year  happiness_score  social_support  \\\n",
       "count  2089.000000      2089.000000     2076.000000   \n",
       "mean   2013.727621         5.473747        0.811542   \n",
       "std       4.455614         1.115567        0.118935   \n",
       "min    2005.000000         2.178809        0.290184   \n",
       "25%    2010.000000         4.651972        0.747664   \n",
       "50%    2014.000000         5.405246        0.834770   \n",
       "75%    2017.000000         6.294282        0.904682   \n",
       "max    2021.000000         8.018934        0.987343   \n",
       "\n",
       "       freedom_to_make_life_choices  healthy_life_expectancy_at_birth  \n",
       "count                   2057.000000                       2031.000000  \n",
       "mean                       0.745462                         63.180326  \n",
       "std                        0.140751                          6.948546  \n",
       "min                        0.257534                          6.720000  \n",
       "25%                        0.651689                         58.965000  \n",
       "50%                        0.767357                         64.980003  \n",
       "75%                        0.857677                         68.362499  \n",
       "max                        0.985178                         74.349998  "
      ]
     },
     "execution_count": 3,
     "metadata": {},
     "output_type": "execute_result"
    }
   ],
   "source": [
    "# the years range from 2005 - 2021\n",
    "# happiness scores range from 2 - 8\n",
    "df.describe()"
   ]
  },
  {
   "cell_type": "code",
   "execution_count": null,
   "metadata": {},
   "outputs": [],
   "source": []
  },
  {
   "cell_type": "markdown",
   "metadata": {},
   "source": [
    "## Explore the data"
   ]
  },
  {
   "cell_type": "code",
   "execution_count": 4,
   "metadata": {},
   "outputs": [],
   "source": [
    "# Filter out any data before 2010 and after 2019\n"
   ]
  },
  {
   "cell_type": "code",
   "execution_count": 5,
   "metadata": {},
   "outputs": [],
   "source": [
    "# Group the data by country and calculate the maximum happiness score for each one\n"
   ]
  },
  {
   "cell_type": "code",
   "execution_count": 6,
   "metadata": {},
   "outputs": [],
   "source": [
    "# Sort the grouped countries by happiness score and return the top five\n"
   ]
  },
  {
   "cell_type": "code",
   "execution_count": 7,
   "metadata": {},
   "outputs": [],
   "source": [
    "# Group the data by country and calculate the average happiness score for each one\n"
   ]
  },
  {
   "cell_type": "code",
   "execution_count": 8,
   "metadata": {},
   "outputs": [],
   "source": [
    "# Sort the grouped countries by happiness score and return the top five\n"
   ]
  },
  {
   "cell_type": "code",
   "execution_count": 9,
   "metadata": {},
   "outputs": [],
   "source": [
    "# Compare the two lists"
   ]
  },
  {
   "cell_type": "code",
   "execution_count": null,
   "metadata": {},
   "outputs": [],
   "source": []
  }
 ],
 "metadata": {
  "kernelspec": {
   "display_name": "Python 3",
   "language": "python",
   "name": "python3"
  },
  "language_info": {
   "codemirror_mode": {
    "name": "ipython",
    "version": 3
   },
   "file_extension": ".py",
   "mimetype": "text/x-python",
   "name": "python",
   "nbconvert_exporter": "python",
   "pygments_lexer": "ipython3",
   "version": "3.8.5"
  }
 },
 "nbformat": 4,
 "nbformat_minor": 4
}
