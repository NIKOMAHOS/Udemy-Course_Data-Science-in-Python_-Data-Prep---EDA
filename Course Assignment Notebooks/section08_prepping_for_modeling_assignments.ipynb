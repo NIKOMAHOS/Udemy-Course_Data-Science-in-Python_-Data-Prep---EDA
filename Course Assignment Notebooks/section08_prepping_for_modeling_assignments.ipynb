{
 "cells": [
  {
   "cell_type": "markdown",
   "metadata": {},
   "source": [
    "# Assignments: Prepping for Modeling"
   ]
  },
  {
   "cell_type": "markdown",
   "metadata": {},
   "source": [
    "## 1. Create a Single Table"
   ]
  },
  {
   "cell_type": "markdown",
   "metadata": {},
   "source": [
    "Hi there,\n",
    "\n",
    "We just finished collecting our Q2 book sales data. Can you help us create one giant table that includes:\n",
    "\n",
    "* April, May and June’s book sales\n",
    "* Customer data\n",
    "\n",
    "Each table has a field called customer_id that links all the tables together.\n",
    "\n",
    "I’ve attached four files.\n",
    "\n",
    "Thanks!\\\n",
    "Brooke"
   ]
  },
  {
   "cell_type": "code",
   "execution_count": 1,
   "metadata": {},
   "outputs": [],
   "source": [
    "# Read all four files into a Jupyter Notebook\n"
   ]
  },
  {
   "cell_type": "code",
   "execution_count": 2,
   "metadata": {},
   "outputs": [],
   "source": [
    "# Concatenate the April, May and June book sales DataFrames\n"
   ]
  },
  {
   "cell_type": "code",
   "execution_count": 3,
   "metadata": {},
   "outputs": [],
   "source": [
    "# Join the newly created book sales DataFrame with the customers DataFrame on customer_id\n",
    "# Which type of join do you think would work best here?\n"
   ]
  },
  {
   "cell_type": "code",
   "execution_count": null,
   "metadata": {},
   "outputs": [],
   "source": []
  },
  {
   "cell_type": "markdown",
   "metadata": {},
   "source": [
    "## 2. Prepare Rows for Modeling"
   ]
  },
  {
   "cell_type": "markdown",
   "metadata": {},
   "source": [
    "Hi again,\n",
    "\n",
    "We are trying to predict which customers will purchase a book this month.\n",
    "\n",
    "Can you reformat the data you compiled earlier this week so that it’s ready to be input into a model, with each row representing a customer instead of a purchase?\n",
    "\n",
    "Thanks!\\\n",
    "Brooke"
   ]
  },
  {
   "cell_type": "code",
   "execution_count": 4,
   "metadata": {},
   "outputs": [],
   "source": [
    "# What should one row of data look like for the model?\n"
   ]
  },
  {
   "cell_type": "code",
   "execution_count": 5,
   "metadata": {},
   "outputs": [],
   "source": [
    "# Create a column called 'June Purchases' that sums up all purchases in June\n"
   ]
  },
  {
   "cell_type": "code",
   "execution_count": 6,
   "metadata": {},
   "outputs": [],
   "source": [
    "# Create a column called 'Total Spend' that sums up the prices of all the books that were purchased in April and May\n"
   ]
  },
  {
   "cell_type": "code",
   "execution_count": 7,
   "metadata": {
    "scrolled": true
   },
   "outputs": [],
   "source": [
    "# Combine the 'June Purchases' and 'Total Spend' columns into a single DataFrame for modeling\n"
   ]
  },
  {
   "cell_type": "code",
   "execution_count": null,
   "metadata": {},
   "outputs": [],
   "source": []
  },
  {
   "cell_type": "markdown",
   "metadata": {},
   "source": [
    "## 3. Prepare Columns for Modeling"
   ]
  },
  {
   "cell_type": "markdown",
   "metadata": {},
   "source": [
    "Hi again,\n",
    "\n",
    "Thanks for your help earlier this week! We just learned that we also have to make all of the data numeric before inputting it into a predictive model.\n",
    "\n",
    "Can you turn the Audience text field into a numeric field?\n",
    "\n",
    "Thanks!\\\n",
    "Brooke"
   ]
  },
  {
   "cell_type": "code",
   "execution_count": 8,
   "metadata": {},
   "outputs": [],
   "source": [
    "# Change the Audience field into a dummy variable\n"
   ]
  },
  {
   "cell_type": "code",
   "execution_count": 9,
   "metadata": {},
   "outputs": [],
   "source": [
    "# Using the Audience dummy variables, create three new columns that contain\n",
    "# the number of Adult / Children / Teen books purchased by each customer\n"
   ]
  },
  {
   "cell_type": "code",
   "execution_count": 10,
   "metadata": {
    "scrolled": true
   },
   "outputs": [],
   "source": [
    "# Combine the three new columns back with the customer-level data\n"
   ]
  },
  {
   "cell_type": "code",
   "execution_count": null,
   "metadata": {},
   "outputs": [],
   "source": []
  },
  {
   "cell_type": "markdown",
   "metadata": {},
   "source": [
    "## 4. Feature Engineering"
   ]
  },
  {
   "cell_type": "markdown",
   "metadata": {},
   "source": [
    "Hi again,\n",
    "\n",
    "I have one final request for you.\n",
    "\n",
    "As a reminder, our goal is to try and predict which customer will purchase a book this month.\n",
    "\n",
    "Can you create new features that you think will do a good job making a prediction?\n",
    "\n",
    "Thanks!\\\n",
    "Brooke"
   ]
  },
  {
   "cell_type": "code",
   "execution_count": 11,
   "metadata": {},
   "outputs": [],
   "source": [
    "# what features could do a good job predicting june purchases?\n"
   ]
  },
  {
   "cell_type": "code",
   "execution_count": 12,
   "metadata": {},
   "outputs": [],
   "source": [
    "# create the feature\n"
   ]
  },
  {
   "cell_type": "code",
   "execution_count": 13,
   "metadata": {},
   "outputs": [],
   "source": [
    "# add it to the dataframe for modeling\n"
   ]
  },
  {
   "cell_type": "code",
   "execution_count": 14,
   "metadata": {},
   "outputs": [],
   "source": [
    "# create another feature\n"
   ]
  },
  {
   "cell_type": "code",
   "execution_count": 15,
   "metadata": {},
   "outputs": [],
   "source": [
    "# add it to the dataframe for modeling\n"
   ]
  },
  {
   "cell_type": "code",
   "execution_count": 16,
   "metadata": {},
   "outputs": [],
   "source": [
    "# view the final dataframe that is ready to be input into a model"
   ]
  },
  {
   "cell_type": "code",
   "execution_count": null,
   "metadata": {},
   "outputs": [],
   "source": []
  }
 ],
 "metadata": {
  "kernelspec": {
   "display_name": "Python 3",
   "language": "python",
   "name": "python3"
  },
  "language_info": {
   "codemirror_mode": {
    "name": "ipython",
    "version": 3
   },
   "file_extension": ".py",
   "mimetype": "text/x-python",
   "name": "python",
   "nbconvert_exporter": "python",
   "pygments_lexer": "ipython3",
   "version": "3.8.5"
  }
 },
 "nbformat": 4,
 "nbformat_minor": 4
}
